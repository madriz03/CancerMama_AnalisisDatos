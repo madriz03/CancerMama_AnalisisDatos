{
 "cells": [
  {
   "cell_type": "markdown",
   "metadata": {},
   "source": [
    "# Analizando datos del programa SEER DEL NCI sobre el Cáncer de Mama\n",
    "\n",
    "Autor: Javier Madriz  \n",
    "Fecha: 20 de Junio de 2023"
   ]
  },
  {
   "cell_type": "markdown",
   "metadata": {},
   "source": [
    "\n",
    "## Introducción\n",
    "\n",
    "Este análisis se basa en un conjunto de datos de pacientes con cáncer de mama obtenido del Programa SEER del NCI, actualizado en noviembre de 2017. El Programa SEER recopila estadísticas de cáncer basadas en la población y proporciona información invaluable para comprender y abordar esta enfermedad.\n",
    "\n",
    "El conjunto de datos se centra en mujeres diagnosticadas con cáncer de mama invasivo entre los años 2000 y 2017. Contiene una amplia gama de información, incluyendo edad, raza, origen étnico, etapa del cáncer, tamaño del tumor, grado y tratamiento del paciente. Estos datos son de gran importancia para la investigación y la toma de decisiones en el ámbito de la salud.\n",
    "\n",
    "Es importante destacar que estos datos se comparten bajo la licencia internacional Creative Commons Attribution 4.0, lo que permite su uso y distribución siempre y cuando se cite correctamente la fuente original. En este caso, se cita el conjunto de datos de la siguiente manera:\n",
    "\n",
    "**Cita:**\n",
    "JING TENG, 18 de enero de 2019, \"Datos de cáncer de mama SEER\", puerto de datos IEEE, doi: [https://dx.doi.org/10.21227/a9qy-ph35](https://dx.doi.org/10.21227/a9qy-ph35).\n",
    "\n",
    "Este análisis tiene como objetivo explorar y comprender mejor los patrones y las características de los pacientes con cáncer de mama en este conjunto de datos. Mediante el uso de herramientas de análisis y visualización de datos, buscaremos identificar tendencias, asociaciones y posibles insights que puedan contribuir al avance en el diagnóstico y tratamiento de esta enfermedad.\n",
    "\n",
    "¡Sigue leyendo para descubrir los hallazgos y conclusiones derivados de este análisis de datos!\n"
   ]
  },
  {
   "cell_type": "markdown",
   "metadata": {},
   "source": [
    "## Carga de datos\n",
    "En esta sección se llevará a cabo la carga de los datos desde un archivo CSV o cualquier otra fuente de datos utilizada. Se utilizarán herramientas y librerias como pandas y otras para manejar y preparar los datos para su posterior análisis."
   ]
  },
  {
   "cell_type": "code",
   "execution_count": 1,
   "metadata": {
    "id": "X8zpHknBR7Ys"
   },
   "outputs": [],
   "source": [
    "import pandas as pd\n",
    "import numpy as np\n",
    "import matplotlib.pyplot as plt\n",
    "import seaborn as sns"
   ]
  },
  {
   "cell_type": "code",
   "execution_count": 2,
   "metadata": {
    "colab": {
     "base_uri": "https://localhost:8080/",
     "height": 433
    },
    "id": "i3KoRzj5SNgF",
    "outputId": "47200316-5f08-4d16-eb9e-0971780c3235"
   },
   "outputs": [
    {
     "data": {
      "text/html": [
       "<div>\n",
       "<style scoped>\n",
       "    .dataframe tbody tr th:only-of-type {\n",
       "        vertical-align: middle;\n",
       "    }\n",
       "\n",
       "    .dataframe tbody tr th {\n",
       "        vertical-align: top;\n",
       "    }\n",
       "\n",
       "    .dataframe thead th {\n",
       "        text-align: right;\n",
       "    }\n",
       "</style>\n",
       "<table border=\"1\" class=\"dataframe\">\n",
       "  <thead>\n",
       "    <tr style=\"text-align: right;\">\n",
       "      <th></th>\n",
       "      <th>Age</th>\n",
       "      <th>Race</th>\n",
       "      <th>Marital Status</th>\n",
       "      <th>Unnamed: 3</th>\n",
       "      <th>T Stage</th>\n",
       "      <th>N Stage</th>\n",
       "      <th>6th Stage</th>\n",
       "      <th>Grade</th>\n",
       "      <th>A Stage</th>\n",
       "      <th>Tumor Size</th>\n",
       "      <th>Estrogen Status</th>\n",
       "      <th>Progesterone Status</th>\n",
       "      <th>Regional Node Examined</th>\n",
       "      <th>Reginol Node Positive</th>\n",
       "      <th>Survival Months</th>\n",
       "      <th>Status</th>\n",
       "    </tr>\n",
       "  </thead>\n",
       "  <tbody>\n",
       "    <tr>\n",
       "      <th>0</th>\n",
       "      <td>43</td>\n",
       "      <td>Other (American Indian/AK Native, Asian/Pacifi...</td>\n",
       "      <td>Married (including common law)</td>\n",
       "      <td>NaN</td>\n",
       "      <td>T2</td>\n",
       "      <td>N3</td>\n",
       "      <td>IIIC</td>\n",
       "      <td>Moderately differentiated; Grade II</td>\n",
       "      <td>Regional</td>\n",
       "      <td>40</td>\n",
       "      <td>Positive</td>\n",
       "      <td>Positive</td>\n",
       "      <td>19</td>\n",
       "      <td>11</td>\n",
       "      <td>1</td>\n",
       "      <td>Alive</td>\n",
       "    </tr>\n",
       "    <tr>\n",
       "      <th>1</th>\n",
       "      <td>47</td>\n",
       "      <td>Other (American Indian/AK Native, Asian/Pacifi...</td>\n",
       "      <td>Married (including common law)</td>\n",
       "      <td>NaN</td>\n",
       "      <td>T2</td>\n",
       "      <td>N2</td>\n",
       "      <td>IIIA</td>\n",
       "      <td>Moderately differentiated; Grade II</td>\n",
       "      <td>Regional</td>\n",
       "      <td>45</td>\n",
       "      <td>Positive</td>\n",
       "      <td>Positive</td>\n",
       "      <td>25</td>\n",
       "      <td>9</td>\n",
       "      <td>2</td>\n",
       "      <td>Alive</td>\n",
       "    </tr>\n",
       "    <tr>\n",
       "      <th>2</th>\n",
       "      <td>67</td>\n",
       "      <td>White</td>\n",
       "      <td>Married (including common law)</td>\n",
       "      <td>NaN</td>\n",
       "      <td>T2</td>\n",
       "      <td>N1</td>\n",
       "      <td>IIB</td>\n",
       "      <td>Poorly differentiated; Grade III</td>\n",
       "      <td>Regional</td>\n",
       "      <td>25</td>\n",
       "      <td>Positive</td>\n",
       "      <td>Positive</td>\n",
       "      <td>4</td>\n",
       "      <td>1</td>\n",
       "      <td>2</td>\n",
       "      <td>Dead</td>\n",
       "    </tr>\n",
       "  </tbody>\n",
       "</table>\n",
       "</div>"
      ],
      "text/plain": [
       "   Age                                              Race   \\\n",
       "0   43  Other (American Indian/AK Native, Asian/Pacifi...   \n",
       "1   47  Other (American Indian/AK Native, Asian/Pacifi...   \n",
       "2   67                                              White   \n",
       "\n",
       "                   Marital Status  Unnamed: 3 T Stage  N Stage 6th Stage  \\\n",
       "0  Married (including common law)         NaN       T2      N3      IIIC   \n",
       "1  Married (including common law)         NaN       T2      N2      IIIA   \n",
       "2  Married (including common law)         NaN       T2      N1       IIB   \n",
       "\n",
       "                                 Grade   A Stage  Tumor Size Estrogen Status  \\\n",
       "0  Moderately differentiated; Grade II  Regional          40        Positive   \n",
       "1  Moderately differentiated; Grade II  Regional          45        Positive   \n",
       "2     Poorly differentiated; Grade III  Regional          25        Positive   \n",
       "\n",
       "  Progesterone Status  Regional Node Examined  Reginol Node Positive  \\\n",
       "0            Positive                      19                     11   \n",
       "1            Positive                      25                      9   \n",
       "2            Positive                       4                      1   \n",
       "\n",
       "   Survival Months Status  \n",
       "0                1  Alive  \n",
       "1                2  Alive  \n",
       "2                2   Dead  "
      ]
     },
     "execution_count": 2,
     "metadata": {},
     "output_type": "execute_result"
    }
   ],
   "source": [
    "df = pd.read_csv('cancer-de-mama.csv')\n",
    "df.head(3)"
   ]
  },
  {
   "cell_type": "markdown",
   "metadata": {},
   "source": [
    "## Exploración de datos\n",
    "\n",
    "En esta sección se realizará una exploración inicial de los datos, incluyendo un análisis descriptivo, resumen estadístico y visualización de algunas variables clave. Se buscará comprender la estructura de los datos y detectar posibles valores atípicos o faltantes."
   ]
  },
  {
   "cell_type": "code",
   "execution_count": 3,
   "metadata": {
    "colab": {
     "base_uri": "https://localhost:8080/"
    },
    "id": "4l_ic93yTprs",
    "outputId": "6dd273c5-4a73-47ea-d4ef-204e92b4b306"
   },
   "outputs": [
    {
     "data": {
      "text/plain": [
       "Age                         int64\n",
       "Race                       object\n",
       "Marital Status             object\n",
       "Unnamed: 3                float64\n",
       "T Stage                    object\n",
       "N Stage                    object\n",
       "6th Stage                  object\n",
       "Grade                      object\n",
       "A Stage                    object\n",
       "Tumor Size                  int64\n",
       "Estrogen Status            object\n",
       "Progesterone Status        object\n",
       "Regional Node Examined      int64\n",
       "Reginol Node Positive       int64\n",
       "Survival Months             int64\n",
       "Status                     object\n",
       "dtype: object"
      ]
     },
     "execution_count": 3,
     "metadata": {},
     "output_type": "execute_result"
    }
   ],
   "source": [
    "df.dtypes"
   ]
  },
  {
   "cell_type": "markdown",
   "metadata": {
    "id": "T0k4lCnaT3eE"
   },
   "source": [
    "**El data set tiene las siguientes caracteristicas**\n",
    "**Variables numericas:**\n",
    "\n",
    "\n",
    "*   Age: Edad del paciente\n",
    "*   Tumor Size: Tamaño del tumor\n",
    "*   Regional Node Examined: Ganlios examinados\n",
    "*   Regional Node Positive: Quistes que dieron positivo\n",
    "*   Survival Months: Meses de supervivencia\n",
    "\n",
    "**Variables categoricas:**\n",
    "*   Race: Raza del paciente\n",
    "*   Marital status: Estado civil\n",
    "*   T stage: Tamaño y extension del tumor\n",
    "*   N stage: Numero de ganglios afectados\n",
    "*   6th Stage: Estado general del cancer\n",
    "*   Grade: Grado del cancer\n",
    "*   A stage: Estado de metastasis\n",
    "*   Elemento de lista\n",
    "*   Strogen status: Estado de estrogenos\n",
    "*   Progesterone Status: Estado de progesterona\n",
    "*   Status: Status del paciente: Vivo o muerto\n",
    "\n",
    "\n",
    "\n",
    "\n",
    "\n",
    "\n",
    "\n",
    "\n",
    "\n",
    "\n",
    "\n",
    "\n",
    "\n"
   ]
  },
  {
   "cell_type": "code",
   "execution_count": 4,
   "metadata": {
    "colab": {
     "base_uri": "https://localhost:8080/"
    },
    "id": "CGOXvpl4b8ZL",
    "outputId": "c0eab226-7fb2-4021-91c8-af5dc412d8be"
   },
   "outputs": [
    {
     "data": {
      "text/plain": [
       "(4024, 16)"
      ]
     },
     "execution_count": 4,
     "metadata": {},
     "output_type": "execute_result"
    }
   ],
   "source": [
    "df.shape"
   ]
  },
  {
   "cell_type": "markdown",
   "metadata": {
    "id": "FSEVDPGSca3S"
   },
   "source": [
    "El dataset  tiene 16 columnas y 4024 registros"
   ]
  },
  {
   "cell_type": "code",
   "execution_count": 5,
   "metadata": {
    "colab": {
     "base_uri": "https://localhost:8080/"
    },
    "id": "ok6xFC2RcB6K",
    "outputId": "8979c9b5-b803-4aa6-ea93-dab804fe2c7f"
   },
   "outputs": [
    {
     "name": "stdout",
     "output_type": "stream",
     "text": [
      "<class 'pandas.core.frame.DataFrame'>\n",
      "RangeIndex: 4024 entries, 0 to 4023\n",
      "Data columns (total 16 columns):\n",
      " #   Column                  Non-Null Count  Dtype  \n",
      "---  ------                  --------------  -----  \n",
      " 0   Age                     4024 non-null   int64  \n",
      " 1   Race                    4024 non-null   object \n",
      " 2   Marital Status          4024 non-null   object \n",
      " 3   Unnamed: 3              0 non-null      float64\n",
      " 4   T Stage                 4024 non-null   object \n",
      " 5   N Stage                 4024 non-null   object \n",
      " 6   6th Stage               4024 non-null   object \n",
      " 7   Grade                   4024 non-null   object \n",
      " 8   A Stage                 4024 non-null   object \n",
      " 9   Tumor Size              4024 non-null   int64  \n",
      " 10  Estrogen Status         4024 non-null   object \n",
      " 11  Progesterone Status     4024 non-null   object \n",
      " 12  Regional Node Examined  4024 non-null   int64  \n",
      " 13  Reginol Node Positive   4024 non-null   int64  \n",
      " 14  Survival Months         4024 non-null   int64  \n",
      " 15  Status                  4024 non-null   object \n",
      "dtypes: float64(1), int64(5), object(10)\n",
      "memory usage: 503.1+ KB\n"
     ]
    }
   ],
   "source": [
    "df.info()"
   ]
  },
  {
   "cell_type": "markdown",
   "metadata": {
    "id": "vw9WN119c50w"
   },
   "source": [
    "No tenemos valores nulos, excepto para la columna **unnamed**"
   ]
  },
  {
   "cell_type": "code",
   "execution_count": 6,
   "metadata": {
    "colab": {
     "base_uri": "https://localhost:8080/"
    },
    "id": "fhEHLHnScxde",
    "outputId": "9e4a206d-99f2-42d4-8fb2-67bae21fe515"
   },
   "outputs": [
    {
     "data": {
      "text/plain": [
       "Age                          0\n",
       "Race                         0\n",
       "Marital Status               0\n",
       "Unnamed: 3                4024\n",
       "T Stage                      0\n",
       "N Stage                      0\n",
       "6th Stage                    0\n",
       "Grade                        0\n",
       "A Stage                      0\n",
       "Tumor Size                   0\n",
       "Estrogen Status              0\n",
       "Progesterone Status          0\n",
       "Regional Node Examined       0\n",
       "Reginol Node Positive        0\n",
       "Survival Months              0\n",
       "Status                       0\n",
       "dtype: int64"
      ]
     },
     "execution_count": 6,
     "metadata": {},
     "output_type": "execute_result"
    }
   ],
   "source": [
    "df.isnull().sum()"
   ]
  },
  {
   "cell_type": "markdown",
   "metadata": {
    "id": "YRBy4zRJd_yp"
   },
   "source": [
    "Eliminaremos la columna Unnamed:3, tiene toda la pinta que es un error en la carga de datos"
   ]
  },
  {
   "cell_type": "code",
   "execution_count": 7,
   "metadata": {
    "colab": {
     "base_uri": "https://localhost:8080/",
     "height": 350
    },
    "id": "e-ArSXU5dmAe",
    "outputId": "6b3a8b97-9a46-4889-fb70-88260f570791"
   },
   "outputs": [
    {
     "data": {
      "text/html": [
       "<div>\n",
       "<style scoped>\n",
       "    .dataframe tbody tr th:only-of-type {\n",
       "        vertical-align: middle;\n",
       "    }\n",
       "\n",
       "    .dataframe tbody tr th {\n",
       "        vertical-align: top;\n",
       "    }\n",
       "\n",
       "    .dataframe thead th {\n",
       "        text-align: right;\n",
       "    }\n",
       "</style>\n",
       "<table border=\"1\" class=\"dataframe\">\n",
       "  <thead>\n",
       "    <tr style=\"text-align: right;\">\n",
       "      <th></th>\n",
       "      <th>Age</th>\n",
       "      <th>Race</th>\n",
       "      <th>Marital Status</th>\n",
       "      <th>T Stage</th>\n",
       "      <th>N Stage</th>\n",
       "      <th>6th Stage</th>\n",
       "      <th>Grade</th>\n",
       "      <th>A Stage</th>\n",
       "      <th>Tumor Size</th>\n",
       "      <th>Estrogen Status</th>\n",
       "      <th>Progesterone Status</th>\n",
       "      <th>Regional Node Examined</th>\n",
       "      <th>Reginol Node Positive</th>\n",
       "      <th>Survival Months</th>\n",
       "      <th>Status</th>\n",
       "    </tr>\n",
       "  </thead>\n",
       "  <tbody>\n",
       "    <tr>\n",
       "      <th>0</th>\n",
       "      <td>43</td>\n",
       "      <td>Other (American Indian/AK Native, Asian/Pacifi...</td>\n",
       "      <td>Married (including common law)</td>\n",
       "      <td>T2</td>\n",
       "      <td>N3</td>\n",
       "      <td>IIIC</td>\n",
       "      <td>Moderately differentiated; Grade II</td>\n",
       "      <td>Regional</td>\n",
       "      <td>40</td>\n",
       "      <td>Positive</td>\n",
       "      <td>Positive</td>\n",
       "      <td>19</td>\n",
       "      <td>11</td>\n",
       "      <td>1</td>\n",
       "      <td>Alive</td>\n",
       "    </tr>\n",
       "    <tr>\n",
       "      <th>1</th>\n",
       "      <td>47</td>\n",
       "      <td>Other (American Indian/AK Native, Asian/Pacifi...</td>\n",
       "      <td>Married (including common law)</td>\n",
       "      <td>T2</td>\n",
       "      <td>N2</td>\n",
       "      <td>IIIA</td>\n",
       "      <td>Moderately differentiated; Grade II</td>\n",
       "      <td>Regional</td>\n",
       "      <td>45</td>\n",
       "      <td>Positive</td>\n",
       "      <td>Positive</td>\n",
       "      <td>25</td>\n",
       "      <td>9</td>\n",
       "      <td>2</td>\n",
       "      <td>Alive</td>\n",
       "    </tr>\n",
       "  </tbody>\n",
       "</table>\n",
       "</div>"
      ],
      "text/plain": [
       "   Age                                              Race   \\\n",
       "0   43  Other (American Indian/AK Native, Asian/Pacifi...   \n",
       "1   47  Other (American Indian/AK Native, Asian/Pacifi...   \n",
       "\n",
       "                   Marital Status T Stage  N Stage 6th Stage  \\\n",
       "0  Married (including common law)       T2      N3      IIIC   \n",
       "1  Married (including common law)       T2      N2      IIIA   \n",
       "\n",
       "                                 Grade   A Stage  Tumor Size Estrogen Status  \\\n",
       "0  Moderately differentiated; Grade II  Regional          40        Positive   \n",
       "1  Moderately differentiated; Grade II  Regional          45        Positive   \n",
       "\n",
       "  Progesterone Status  Regional Node Examined  Reginol Node Positive  \\\n",
       "0            Positive                      19                     11   \n",
       "1            Positive                      25                      9   \n",
       "\n",
       "   Survival Months Status  \n",
       "0                1  Alive  \n",
       "1                2  Alive  "
      ]
     },
     "execution_count": 7,
     "metadata": {},
     "output_type": "execute_result"
    }
   ],
   "source": [
    "df.drop('Unnamed: 3', axis=1, inplace=True)\n",
    "df.head(2)"
   ]
  },
  {
   "cell_type": "code",
   "execution_count": 8,
   "metadata": {
    "colab": {
     "base_uri": "https://localhost:8080/",
     "height": 206
    },
    "id": "gSVpXBmmeJfJ",
    "outputId": "07a29694-143a-4192-b167-bebaf0a330b2"
   },
   "outputs": [
    {
     "data": {
      "text/html": [
       "<div>\n",
       "<style scoped>\n",
       "    .dataframe tbody tr th:only-of-type {\n",
       "        vertical-align: middle;\n",
       "    }\n",
       "\n",
       "    .dataframe tbody tr th {\n",
       "        vertical-align: top;\n",
       "    }\n",
       "\n",
       "    .dataframe thead th {\n",
       "        text-align: right;\n",
       "    }\n",
       "</style>\n",
       "<table border=\"1\" class=\"dataframe\">\n",
       "  <thead>\n",
       "    <tr style=\"text-align: right;\">\n",
       "      <th></th>\n",
       "      <th>count</th>\n",
       "      <th>mean</th>\n",
       "      <th>std</th>\n",
       "      <th>min</th>\n",
       "      <th>25%</th>\n",
       "      <th>50%</th>\n",
       "      <th>75%</th>\n",
       "      <th>max</th>\n",
       "    </tr>\n",
       "  </thead>\n",
       "  <tbody>\n",
       "    <tr>\n",
       "      <th>Age</th>\n",
       "      <td>4024.0</td>\n",
       "      <td>53.972167</td>\n",
       "      <td>8.963134</td>\n",
       "      <td>30.0</td>\n",
       "      <td>47.0</td>\n",
       "      <td>54.0</td>\n",
       "      <td>61.0</td>\n",
       "      <td>69.0</td>\n",
       "    </tr>\n",
       "    <tr>\n",
       "      <th>Tumor Size</th>\n",
       "      <td>4024.0</td>\n",
       "      <td>30.473658</td>\n",
       "      <td>21.119696</td>\n",
       "      <td>1.0</td>\n",
       "      <td>16.0</td>\n",
       "      <td>25.0</td>\n",
       "      <td>38.0</td>\n",
       "      <td>140.0</td>\n",
       "    </tr>\n",
       "    <tr>\n",
       "      <th>Regional Node Examined</th>\n",
       "      <td>4024.0</td>\n",
       "      <td>14.357107</td>\n",
       "      <td>8.099675</td>\n",
       "      <td>1.0</td>\n",
       "      <td>9.0</td>\n",
       "      <td>14.0</td>\n",
       "      <td>19.0</td>\n",
       "      <td>61.0</td>\n",
       "    </tr>\n",
       "    <tr>\n",
       "      <th>Reginol Node Positive</th>\n",
       "      <td>4024.0</td>\n",
       "      <td>4.158052</td>\n",
       "      <td>5.109331</td>\n",
       "      <td>1.0</td>\n",
       "      <td>1.0</td>\n",
       "      <td>2.0</td>\n",
       "      <td>5.0</td>\n",
       "      <td>46.0</td>\n",
       "    </tr>\n",
       "    <tr>\n",
       "      <th>Survival Months</th>\n",
       "      <td>4024.0</td>\n",
       "      <td>71.297962</td>\n",
       "      <td>22.921430</td>\n",
       "      <td>1.0</td>\n",
       "      <td>56.0</td>\n",
       "      <td>73.0</td>\n",
       "      <td>90.0</td>\n",
       "      <td>107.0</td>\n",
       "    </tr>\n",
       "  </tbody>\n",
       "</table>\n",
       "</div>"
      ],
      "text/plain": [
       "                         count       mean        std   min   25%   50%   75%  \\\n",
       "Age                     4024.0  53.972167   8.963134  30.0  47.0  54.0  61.0   \n",
       "Tumor Size              4024.0  30.473658  21.119696   1.0  16.0  25.0  38.0   \n",
       "Regional Node Examined  4024.0  14.357107   8.099675   1.0   9.0  14.0  19.0   \n",
       "Reginol Node Positive   4024.0   4.158052   5.109331   1.0   1.0   2.0   5.0   \n",
       "Survival Months         4024.0  71.297962  22.921430   1.0  56.0  73.0  90.0   \n",
       "\n",
       "                          max  \n",
       "Age                      69.0  \n",
       "Tumor Size              140.0  \n",
       "Regional Node Examined   61.0  \n",
       "Reginol Node Positive    46.0  \n",
       "Survival Months         107.0  "
      ]
     },
     "execution_count": 8,
     "metadata": {},
     "output_type": "execute_result"
    }
   ],
   "source": [
    "df.describe().T"
   ]
  },
  {
   "cell_type": "markdown",
   "metadata": {
    "id": "AgfO_fS9pBRj"
   },
   "source": [
    "A través del método describe, realizamos un análisis estadístico descriptivo de las variables numéricas en nuestro conjunto de datos. Este resumen nos brinda una visión general de las características de los datos, lo que nos permite obtener una primera impresión y establecer un punto de partida sólido para abordar nuestras preguntas de investigación."
   ]
  },
  {
   "cell_type": "markdown",
   "metadata": {
    "id": "ceJ4XrlBpue5"
   },
   "source": [
    "**Revision de rangos en variables**"
   ]
  },
  {
   "cell_type": "code",
   "execution_count": 9,
   "metadata": {
    "colab": {
     "base_uri": "https://localhost:8080/"
    },
    "id": "w9rJQKwZp0FX",
    "outputId": "a47618df-a6af-4111-b944-7ce150653a02"
   },
   "outputs": [
    {
     "name": "stdout",
     "output_type": "stream",
     "text": [
      "Edad Minima 30, Edad Maxima 69\n"
     ]
    }
   ],
   "source": [
    "age_min, age_max = df['Age'].min(), df['Age'].max()\n",
    "print(f'Edad Minima {age_min}, Edad Maxima {age_max}')"
   ]
  },
  {
   "cell_type": "markdown",
   "metadata": {},
   "source": [
    "En nuestra exploración del rango de edad de los pacientes, nos aseguramos de identificar posibles valores atípicos que podrían afectar el resumen estadístico. Por ejemplo, buscamos descartar registros de edades excesivamente altas, como 200 años, ya que científicamente sabemos que es improbable que una persona viva tanto tiempo. La detección de estos valores atípicos es esencial para obtener un análisis preciso y confiable de las edades de los pacientes."
   ]
  },
  {
   "cell_type": "markdown",
   "metadata": {
    "id": "REthieYYtT_u"
   },
   "source": [
    "## Revision  de Categorias unicas\n",
    "A continuacion aplicaremos el metodo unique a nuestras columnas. Al aplicar el método unique a todas las columnas de nuestro conjunto de datos, obtenemos una lista de valores únicos para cada una de ellas. Esto nos permite identificar la diversidad de categorías o valores distintos presentes en cada columna. Esta información es importante para comprender la variabilidad de los datos y puede ayudarnos a detectar posibles errores o inconsistencias en la captura de información.\n",
    "\n",
    "El análisis de los valores únicos nos brinda una visión más detallada de la estructura y la calidad de nuestros datos. Además, nos permite identificar posibles problemas, como valores faltantes, registros duplicados o categorías inesperadas. Con esta información, podemos tomar decisiones informadas sobre el preprocesamiento de los datos y garantizar la integridad y confiabilidad de nuestro análisis."
   ]
  },
  {
   "cell_type": "code",
   "execution_count": 10,
   "metadata": {
    "id": "q07MKfYpr3mD"
   },
   "outputs": [],
   "source": [
    "race_type = df['Race '].unique()"
   ]
  },
  {
   "cell_type": "code",
   "execution_count": 11,
   "metadata": {
    "colab": {
     "base_uri": "https://localhost:8080/"
    },
    "id": "lsalXx9QsXJK",
    "outputId": "31adf5f0-f802-45de-b933-e27f039640dd"
   },
   "outputs": [
    {
     "data": {
      "text/plain": [
       "array(['Married (including common law)', 'Divorced',\n",
       "       'Single (never married)', 'Widowed', 'Separated'], dtype=object)"
      ]
     },
     "execution_count": 11,
     "metadata": {},
     "output_type": "execute_result"
    }
   ],
   "source": [
    "df['Marital Status'].unique()"
   ]
  },
  {
   "cell_type": "code",
   "execution_count": 12,
   "metadata": {
    "colab": {
     "base_uri": "https://localhost:8080/"
    },
    "id": "QG0YGUKStFYJ",
    "outputId": "7b0c8f1c-f396-4885-a3ca-ba00334ffe17"
   },
   "outputs": [
    {
     "data": {
      "text/plain": [
       "array(['Alive', 'Dead'], dtype=object)"
      ]
     },
     "execution_count": 12,
     "metadata": {},
     "output_type": "execute_result"
    }
   ],
   "source": [
    "df['Status'].unique()"
   ]
  },
  {
   "cell_type": "code",
   "execution_count": 13,
   "metadata": {
    "colab": {
     "base_uri": "https://localhost:8080/"
    },
    "id": "7nLf3WPGtgSP",
    "outputId": "5a524126-fd5f-4f81-c6a0-901d587f9d1c"
   },
   "outputs": [
    {
     "data": {
      "text/plain": [
       "array(['Moderately differentiated; Grade II',\n",
       "       'Poorly differentiated; Grade III', 'Well differentiated; Grade I',\n",
       "       'Undifferentiated; anaplastic; Grade IV'], dtype=object)"
      ]
     },
     "execution_count": 13,
     "metadata": {},
     "output_type": "execute_result"
    }
   ],
   "source": [
    "df['Grade'].unique()"
   ]
  },
  {
   "cell_type": "code",
   "execution_count": 14,
   "metadata": {
    "colab": {
     "base_uri": "https://localhost:8080/"
    },
    "id": "ZCm4ZowEvnn1",
    "outputId": "8552cb91-5f6a-4d1e-aa93-4d83003473f3"
   },
   "outputs": [
    {
     "data": {
      "text/plain": [
       "array(['T2', 'T1', 'T3', 'T4'], dtype=object)"
      ]
     },
     "execution_count": 14,
     "metadata": {},
     "output_type": "execute_result"
    }
   ],
   "source": [
    "df['T Stage '].unique()"
   ]
  },
  {
   "cell_type": "markdown",
   "metadata": {},
   "source": [
    "## Conversion de tipo de dato para columna T Stage"
   ]
  },
  {
   "cell_type": "code",
   "execution_count": 15,
   "metadata": {
    "colab": {
     "base_uri": "https://localhost:8080/"
    },
    "id": "_J7EE-oW2ylP",
    "outputId": "7462a6bb-5076-47ea-e305-52b58b49afef"
   },
   "outputs": [
    {
     "data": {
      "text/plain": [
       "CategoricalDtype(categories=['T1', 'T2', 'T3', 'T4'], ordered=True)"
      ]
     },
     "execution_count": 15,
     "metadata": {},
     "output_type": "execute_result"
    }
   ],
   "source": [
    "df['T Stage '] = df['T Stage '].astype('category')\n",
    "df['T Stage '] = df['T Stage '].cat.as_ordered()\n",
    "df['T Stage '].dtypes"
   ]
  },
  {
   "cell_type": "markdown",
   "metadata": {},
   "source": [
    "La columna 'T Stage' representa el estado del tumor en el contexto del cáncer de mama. Según investigaciones médicas, a medida que el número de T Stage aumenta, indica una mayor propagación y tamaño del tumor. Con el objetivo de aprovechar esta información y facilitar el análisis, hemos convertido el tipo de datos de esta columna a categórico.\n",
    "\n",
    "Al cambiar el tipo de datos a categórico, nos permitirá realizar ordenamientos lógicos, realizar análisis estadísticos específicos y obtener una mejor comprensión de las características del tumor en función de su estado. Para obtener más información sobre la clasificación y estadificación del cáncer de mama, se puede consultar [Instituto Nacional del Cancer](https://www.cancer.gov/espanol/cancer/diagnostico-estadificacion/estadificacion)\n",
    "."
   ]
  },
  {
   "cell_type": "markdown",
   "metadata": {},
   "source": [
    "## Eliminacion de espacios en nombres de columnas\n",
    "Tenemos algunas columnas que en sus nombres o encabezados contienen un espacio al inicio o al final lo que corregiremos para evitar inconvenientes"
   ]
  },
  {
   "cell_type": "code",
   "execution_count": 16,
   "metadata": {},
   "outputs": [],
   "source": [
    "columns = df.columns\n",
    "new_columns = [column.strip() for column in columns]\n",
    "df.columns = new_columns"
   ]
  },
  {
   "cell_type": "markdown",
   "metadata": {
    "id": "zTbS0yp-tuP_"
   },
   "source": [
    "# Inicio de Análisis de Datos\n",
    "En esta sección, exploraremos el conjunto de datos y trataremos de responder las siguientes preguntas:\n",
    "\n",
    "* ¿Cuál es la distribución de edades de los pacientes en el conjunto de datos?\n",
    "* ¿Cuántos pacientes se encuentran en cada grupo de edad?\n",
    "* ¿Existe alguna correlación entre el tamaño del tumor y el número de ganglios examinados?\n",
    "* ¿Cuál es la tasa de supervivencia promedio en meses para los pacientes?\n",
    "* ¿Hay diferencias en la tasa de supervivencia entre pacientes de diferentes razas?\n",
    "* ¿Existe alguna relación entre el tamaño del tumor y el estado de metástasis?\n",
    "* ¿Cuántas personas mueren según la edad en nuestro conjunto de datos?\n",
    "* Hay diferencias significativas en la proporción de supervivientes y fallecidos en diferentes grupos de edad?\n",
    "* Extiste una relacion o asociacion entre el rango de edad de los pacientes y el status \"sobrevivientes y fallecidos\"?\n",
    "\n"
   ]
  },
  {
   "cell_type": "markdown",
   "metadata": {},
   "source": [
    "## ¿Cuál es la distribución de edades de los pacientes en el conjunto de datos?"
   ]
  },
  {
   "cell_type": "code",
   "execution_count": 38,
   "metadata": {
    "colab": {
     "base_uri": "https://localhost:8080/"
    },
    "id": "XMj3QwTWt3qd",
    "outputId": "27063cf1-13f4-455d-b8df-3b6fafb01dfd"
   },
   "outputs": [
    {
     "data": {
      "text/plain": [
       "count    4024.000000\n",
       "mean       53.972167\n",
       "std         8.963134\n",
       "min        30.000000\n",
       "25%        47.000000\n",
       "50%        54.000000\n",
       "75%        61.000000\n",
       "max        69.000000\n",
       "Name: Age, dtype: float64"
      ]
     },
     "execution_count": 38,
     "metadata": {},
     "output_type": "execute_result"
    }
   ],
   "source": [
    "df['Age'].describe()\n"
   ]
  },
  {
   "cell_type": "code",
   "execution_count": 18,
   "metadata": {
    "colab": {
     "base_uri": "https://localhost:8080/",
     "height": 430
    },
    "id": "MfStWLiGuOkJ",
    "outputId": "fbfcf3e6-f1dd-4384-a1a0-5499acee2fa6"
   },
   "outputs": [
    {
     "data": {
      "image/png": "[encoded data removed]",
      "text/plain": [
       "<Figure size 640x480 with 1 Axes>"
      ]
     },
     "metadata": {},
     "output_type": "display_data"
    }
   ],
   "source": [
    "df.boxplot(column='Age')\n",
    "plt.show()"
   ]
  },
  {
   "cell_type": "markdown",
   "metadata": {
    "id": "pvZhsNZ_vhuP"
   },
   "source": [
    "\n",
    "\n",
    "* La edad mínima registrada en el conjunto de datos es de 30 años, lo que indica que hay pacientes relativamente jóvenes.\n",
    "\n",
    "* La edad máxima registrada es de 69 años, lo que sugiere la presencia de pacientes adultos mayores en el conjunto de datos.\n",
    "\n",
    "* La edad promedio de los pacientes es de 54 años, lo que proporciona una idea general de la edad promedio de los pacientes con cáncer.\n",
    "\n",
    "* El percentil 25 (Q1) es de 47 años, lo que significa que el 25% de los pacientes tiene menos de 47 años.\n",
    "\n",
    "* El percentil 75 (Q3) es de 61 años, lo que indica que el 25% de los pacientes tiene más de 61 años.\n",
    "\n",
    "* La mediana (percentil 50 o Q2) es de 54 años, lo que significa que el 50% de los pacientes tiene menos de 54 años y el otro 50% tiene más de 54 años.\n",
    "\n",
    "  Estos hallazgos iniciales nos brindan una visión general de la distribución de edades en nuestro conjunto de datos"
   ]
  },
  {
   "cell_type": "markdown",
   "metadata": {
    "id": "begq9Y955GBC"
   },
   "source": [
    "<h4>Cantidad de pacientes dentro del IQR</h4>"
   ]
  },
  {
   "cell_type": "code",
   "execution_count": 19,
   "metadata": {
    "colab": {
     "base_uri": "https://localhost:8080/"
    },
    "id": "3UHLjLB33E1H",
    "outputId": "0523b321-3b52-4685-85a7-89c604418784"
   },
   "outputs": [
    {
     "name": "stdout",
     "output_type": "stream",
     "text": [
      "2136\n",
      "0.5308151093439364\n"
     ]
    }
   ],
   "source": [
    "q1 = df['Age'].quantile(0.25)\n",
    "q3 = df['Age'].quantile(0.75)\n",
    "\n",
    "data_into_box = df[(df['Age']>= q1) & (df['Age'] <= q3)]\n",
    "count_intobox_data = data_into_box['Age'].count()\n",
    "proportion = count_intobox_data / len(df['Age'] * 100)\n",
    "print(count_intobox_data)\n",
    "print(proportion)"
   ]
  },
  {
   "cell_type": "markdown",
   "metadata": {},
   "source": [
    "Además de examinar los estadísticos descriptivos, realizamos un conteo de los pacientes que se encuentran dentro del rango intercuartílico (IQR). Encontramos que 2136 pacientes se sitúan dentro de este rango, lo que representa aproximadamente 53% del total de pacientes en el conjunto de datos. Este resultado destaca la importancia de considerar la dispersión de las edades y nos proporciona una comprensión más detallada de la distribución de edades en nuestro estudio de cáncer de mama.\n"
   ]
  },
  {
   "cell_type": "markdown",
   "metadata": {},
   "source": [
    "## ¿Cuántos pacientes se encuentran en cada grupo de edad?"
   ]
  },
  {
   "cell_type": "code",
   "execution_count": 20,
   "metadata": {
    "id": "nJf7CXMY5Wya"
   },
   "outputs": [
    {
     "data": {
      "text/html": [
       "<div>\n",
       "<style scoped>\n",
       "    .dataframe tbody tr th:only-of-type {\n",
       "        vertical-align: middle;\n",
       "    }\n",
       "\n",
       "    .dataframe tbody tr th {\n",
       "        vertical-align: top;\n",
       "    }\n",
       "\n",
       "    .dataframe thead th {\n",
       "        text-align: right;\n",
       "    }\n",
       "</style>\n",
       "<table border=\"1\" class=\"dataframe\">\n",
       "  <thead>\n",
       "    <tr style=\"text-align: right;\">\n",
       "      <th></th>\n",
       "      <th>Age</th>\n",
       "      <th>People</th>\n",
       "    </tr>\n",
       "  </thead>\n",
       "  <tbody>\n",
       "    <tr>\n",
       "      <th>0</th>\n",
       "      <td>30</td>\n",
       "      <td>5</td>\n",
       "    </tr>\n",
       "    <tr>\n",
       "      <th>1</th>\n",
       "      <td>31</td>\n",
       "      <td>14</td>\n",
       "    </tr>\n",
       "    <tr>\n",
       "      <th>2</th>\n",
       "      <td>32</td>\n",
       "      <td>13</td>\n",
       "    </tr>\n",
       "    <tr>\n",
       "      <th>3</th>\n",
       "      <td>33</td>\n",
       "      <td>15</td>\n",
       "    </tr>\n",
       "    <tr>\n",
       "      <th>4</th>\n",
       "      <td>34</td>\n",
       "      <td>14</td>\n",
       "    </tr>\n",
       "    <tr>\n",
       "      <th>5</th>\n",
       "      <td>35</td>\n",
       "      <td>20</td>\n",
       "    </tr>\n",
       "    <tr>\n",
       "      <th>6</th>\n",
       "      <td>36</td>\n",
       "      <td>24</td>\n",
       "    </tr>\n",
       "    <tr>\n",
       "      <th>7</th>\n",
       "      <td>37</td>\n",
       "      <td>28</td>\n",
       "    </tr>\n",
       "    <tr>\n",
       "      <th>8</th>\n",
       "      <td>38</td>\n",
       "      <td>45</td>\n",
       "    </tr>\n",
       "    <tr>\n",
       "      <th>9</th>\n",
       "      <td>39</td>\n",
       "      <td>52</td>\n",
       "    </tr>\n",
       "    <tr>\n",
       "      <th>10</th>\n",
       "      <td>40</td>\n",
       "      <td>72</td>\n",
       "    </tr>\n",
       "    <tr>\n",
       "      <th>11</th>\n",
       "      <td>41</td>\n",
       "      <td>71</td>\n",
       "    </tr>\n",
       "    <tr>\n",
       "      <th>12</th>\n",
       "      <td>42</td>\n",
       "      <td>82</td>\n",
       "    </tr>\n",
       "    <tr>\n",
       "      <th>13</th>\n",
       "      <td>43</td>\n",
       "      <td>92</td>\n",
       "    </tr>\n",
       "    <tr>\n",
       "      <th>14</th>\n",
       "      <td>44</td>\n",
       "      <td>79</td>\n",
       "    </tr>\n",
       "    <tr>\n",
       "      <th>15</th>\n",
       "      <td>45</td>\n",
       "      <td>102</td>\n",
       "    </tr>\n",
       "    <tr>\n",
       "      <th>16</th>\n",
       "      <td>46</td>\n",
       "      <td>163</td>\n",
       "    </tr>\n",
       "    <tr>\n",
       "      <th>17</th>\n",
       "      <td>47</td>\n",
       "      <td>161</td>\n",
       "    </tr>\n",
       "    <tr>\n",
       "      <th>18</th>\n",
       "      <td>48</td>\n",
       "      <td>140</td>\n",
       "    </tr>\n",
       "    <tr>\n",
       "      <th>19</th>\n",
       "      <td>49</td>\n",
       "      <td>162</td>\n",
       "    </tr>\n",
       "    <tr>\n",
       "      <th>20</th>\n",
       "      <td>50</td>\n",
       "      <td>144</td>\n",
       "    </tr>\n",
       "    <tr>\n",
       "      <th>21</th>\n",
       "      <td>51</td>\n",
       "      <td>148</td>\n",
       "    </tr>\n",
       "    <tr>\n",
       "      <th>22</th>\n",
       "      <td>52</td>\n",
       "      <td>118</td>\n",
       "    </tr>\n",
       "    <tr>\n",
       "      <th>23</th>\n",
       "      <td>53</td>\n",
       "      <td>155</td>\n",
       "    </tr>\n",
       "    <tr>\n",
       "      <th>24</th>\n",
       "      <td>54</td>\n",
       "      <td>128</td>\n",
       "    </tr>\n",
       "    <tr>\n",
       "      <th>25</th>\n",
       "      <td>55</td>\n",
       "      <td>154</td>\n",
       "    </tr>\n",
       "    <tr>\n",
       "      <th>26</th>\n",
       "      <td>56</td>\n",
       "      <td>132</td>\n",
       "    </tr>\n",
       "    <tr>\n",
       "      <th>27</th>\n",
       "      <td>57</td>\n",
       "      <td>144</td>\n",
       "    </tr>\n",
       "    <tr>\n",
       "      <th>28</th>\n",
       "      <td>58</td>\n",
       "      <td>120</td>\n",
       "    </tr>\n",
       "    <tr>\n",
       "      <th>29</th>\n",
       "      <td>59</td>\n",
       "      <td>147</td>\n",
       "    </tr>\n",
       "    <tr>\n",
       "      <th>30</th>\n",
       "      <td>60</td>\n",
       "      <td>140</td>\n",
       "    </tr>\n",
       "    <tr>\n",
       "      <th>31</th>\n",
       "      <td>61</td>\n",
       "      <td>143</td>\n",
       "    </tr>\n",
       "    <tr>\n",
       "      <th>32</th>\n",
       "      <td>62</td>\n",
       "      <td>149</td>\n",
       "    </tr>\n",
       "    <tr>\n",
       "      <th>33</th>\n",
       "      <td>63</td>\n",
       "      <td>153</td>\n",
       "    </tr>\n",
       "    <tr>\n",
       "      <th>34</th>\n",
       "      <td>64</td>\n",
       "      <td>116</td>\n",
       "    </tr>\n",
       "    <tr>\n",
       "      <th>35</th>\n",
       "      <td>65</td>\n",
       "      <td>122</td>\n",
       "    </tr>\n",
       "    <tr>\n",
       "      <th>36</th>\n",
       "      <td>66</td>\n",
       "      <td>119</td>\n",
       "    </tr>\n",
       "    <tr>\n",
       "      <th>37</th>\n",
       "      <td>67</td>\n",
       "      <td>119</td>\n",
       "    </tr>\n",
       "    <tr>\n",
       "      <th>38</th>\n",
       "      <td>68</td>\n",
       "      <td>111</td>\n",
       "    </tr>\n",
       "    <tr>\n",
       "      <th>39</th>\n",
       "      <td>69</td>\n",
       "      <td>108</td>\n",
       "    </tr>\n",
       "  </tbody>\n",
       "</table>\n",
       "</div>"
      ],
      "text/plain": [
       "    Age  People\n",
       "0    30       5\n",
       "1    31      14\n",
       "2    32      13\n",
       "3    33      15\n",
       "4    34      14\n",
       "5    35      20\n",
       "6    36      24\n",
       "7    37      28\n",
       "8    38      45\n",
       "9    39      52\n",
       "10   40      72\n",
       "11   41      71\n",
       "12   42      82\n",
       "13   43      92\n",
       "14   44      79\n",
       "15   45     102\n",
       "16   46     163\n",
       "17   47     161\n",
       "18   48     140\n",
       "19   49     162\n",
       "20   50     144\n",
       "21   51     148\n",
       "22   52     118\n",
       "23   53     155\n",
       "24   54     128\n",
       "25   55     154\n",
       "26   56     132\n",
       "27   57     144\n",
       "28   58     120\n",
       "29   59     147\n",
       "30   60     140\n",
       "31   61     143\n",
       "32   62     149\n",
       "33   63     153\n",
       "34   64     116\n",
       "35   65     122\n",
       "36   66     119\n",
       "37   67     119\n",
       "38   68     111\n",
       "39   69     108"
      ]
     },
     "execution_count": 20,
     "metadata": {},
     "output_type": "execute_result"
    }
   ],
   "source": [
    "df_age_distribution = df.groupby('Age').size().reset_index(name='People').sort_values(by='Age')\n",
    "df_age_distribution"
   ]
  },
  {
   "cell_type": "markdown",
   "metadata": {},
   "source": [
    "### Exportacion"
   ]
  },
  {
   "cell_type": "code",
   "execution_count": 42,
   "metadata": {},
   "outputs": [],
   "source": [
    "df_age_distribution.to_csv('./df_resultantes/age_distribution.csv', index=False)"
   ]
  },
  {
   "cell_type": "markdown",
   "metadata": {},
   "source": [
    "<p> Al analizar la distribución de pacientes según su edad, se observa una tendencia interesante. Para edades más jóvenes, se registra un número relativamente bajo de pacientes. Sin embargo, a medida que la edad aumenta, se observa un incremento significativo en el número de pacientes correspondientes a esa edad. Esto sugiere una posible correlación entre la edad y la prevalencia del cáncer en la población estudiada. </p>"
   ]
  },
  {
   "cell_type": "markdown",
   "metadata": {},
   "source": [
    "## ¿Existe alguna correlación entre el tamaño del tumor y el número de ganglios examinados?"
   ]
  },
  {
   "cell_type": "code",
   "execution_count": 21,
   "metadata": {},
   "outputs": [
    {
     "data": {
      "text/html": [
       "<div>\n",
       "<style scoped>\n",
       "    .dataframe tbody tr th:only-of-type {\n",
       "        vertical-align: middle;\n",
       "    }\n",
       "\n",
       "    .dataframe tbody tr th {\n",
       "        vertical-align: top;\n",
       "    }\n",
       "\n",
       "    .dataframe thead th {\n",
       "        text-align: right;\n",
       "    }\n",
       "</style>\n",
       "<table border=\"1\" class=\"dataframe\">\n",
       "  <thead>\n",
       "    <tr style=\"text-align: right;\">\n",
       "      <th></th>\n",
       "      <th>Tumor Size</th>\n",
       "      <th>Regional Node Examined</th>\n",
       "    </tr>\n",
       "  </thead>\n",
       "  <tbody>\n",
       "    <tr>\n",
       "      <th>Tumor Size</th>\n",
       "      <td>1.000000</td>\n",
       "      <td>0.104352</td>\n",
       "    </tr>\n",
       "    <tr>\n",
       "      <th>Regional Node Examined</th>\n",
       "      <td>0.104352</td>\n",
       "      <td>1.000000</td>\n",
       "    </tr>\n",
       "  </tbody>\n",
       "</table>\n",
       "</div>"
      ],
      "text/plain": [
       "                        Tumor Size  Regional Node Examined\n",
       "Tumor Size                1.000000                0.104352\n",
       "Regional Node Examined    0.104352                1.000000"
      ]
     },
     "execution_count": 21,
     "metadata": {},
     "output_type": "execute_result"
    }
   ],
   "source": [
    "correlation = df[['Tumor Size', 'Regional Node Examined']].corr()\n",
    "correlation"
   ]
  },
  {
   "cell_type": "code",
   "execution_count": 22,
   "metadata": {},
   "outputs": [
    {
     "data": {
      "image/png": "[encoded data removed]",
      "text/plain": [
       "<Figure size 640x480 with 2 Axes>"
      ]
     },
     "metadata": {},
     "output_type": "display_data"
    }
   ],
   "source": [
    "sns.heatmap(correlation, annot=True, linewidths=5)\n",
    "plt.show()"
   ]
  },
  {
   "cell_type": "markdown",
   "metadata": {},
   "source": [
    "<p>La correlación entre el número de ganglios examinados y el tamaño del tumor es baja, con un valor de 0.1. Esto indica que no existe una relación fuerte o significativa entre estas dos variables en el contexto de este análisis. En otras palabras, el tamaño del tumor no parece influir de manera determinante en la cantidad de ganglios examinados. Es importante tener en cuenta este aspecto al interpretar los resultados y considerar otras variables que puedan estar más relacionadas con el número de ganglios examinados.</p>"
   ]
  },
  {
   "cell_type": "markdown",
   "metadata": {},
   "source": [
    "## ¿Cuál es la tasa de supervivencia promedio en meses para los pacientes?"
   ]
  },
  {
   "cell_type": "code",
   "execution_count": 23,
   "metadata": {},
   "outputs": [
    {
     "data": {
      "text/plain": [
       "71.29796222664015"
      ]
     },
     "execution_count": 23,
     "metadata": {},
     "output_type": "execute_result"
    }
   ],
   "source": [
    "months_avg_survivor = df['Survival Months'].mean()\n",
    "months_avg_survivor"
   ]
  },
  {
   "cell_type": "markdown",
   "metadata": {},
   "source": [
    "<p>Podemos observar que el promedio del tiempo de supervivencia de los pacientes es de <strong>71.2</strong> meses, lo que equivale a aproximadamente <strong>5.9</strong> años<p/>"
   ]
  },
  {
   "cell_type": "markdown",
   "metadata": {},
   "source": [
    "## ¿Hay diferencias en la tasa de supervivencia entre pacientes de diferentes razas?"
   ]
  },
  {
   "cell_type": "code",
   "execution_count": 24,
   "metadata": {},
   "outputs": [
    {
     "data": {
      "text/html": [
       "<div>\n",
       "<style scoped>\n",
       "    .dataframe tbody tr th:only-of-type {\n",
       "        vertical-align: middle;\n",
       "    }\n",
       "\n",
       "    .dataframe tbody tr th {\n",
       "        vertical-align: top;\n",
       "    }\n",
       "\n",
       "    .dataframe thead th {\n",
       "        text-align: right;\n",
       "    }\n",
       "</style>\n",
       "<table border=\"1\" class=\"dataframe\">\n",
       "  <thead>\n",
       "    <tr style=\"text-align: right;\">\n",
       "      <th></th>\n",
       "      <th>Race</th>\n",
       "      <th>Survival Months</th>\n",
       "    </tr>\n",
       "  </thead>\n",
       "  <tbody>\n",
       "    <tr>\n",
       "      <th>0</th>\n",
       "      <td>Black</td>\n",
       "      <td>66.611684</td>\n",
       "    </tr>\n",
       "    <tr>\n",
       "      <th>2</th>\n",
       "      <td>White</td>\n",
       "      <td>71.517140</td>\n",
       "    </tr>\n",
       "    <tr>\n",
       "      <th>1</th>\n",
       "      <td>Other (American Indian/AK Native, Asian/Pacifi...</td>\n",
       "      <td>73.221875</td>\n",
       "    </tr>\n",
       "  </tbody>\n",
       "</table>\n",
       "</div>"
      ],
      "text/plain": [
       "                                                Race  Survival Months\n",
       "0                                              Black        66.611684\n",
       "2                                              White        71.517140\n",
       "1  Other (American Indian/AK Native, Asian/Pacifi...        73.221875"
      ]
     },
     "execution_count": 24,
     "metadata": {},
     "output_type": "execute_result"
    }
   ],
   "source": [
    "survivor_race = df.groupby('Race')['Survival Months'].mean().to_frame().reset_index().sort_values('Survival Months')\n",
    "survivor_race"
   ]
  },
  {
   "cell_type": "markdown",
   "metadata": {},
   "source": [
    "### Exportacion"
   ]
  },
  {
   "cell_type": "code",
   "execution_count": 43,
   "metadata": {},
   "outputs": [],
   "source": [
    "survivor_race.to_csv('./df_resultantes/survivor_to_race.csv')"
   ]
  },
  {
   "cell_type": "markdown",
   "metadata": {},
   "source": [
    "<p>No parece haber una diferencia significativa en la tasa de supervivencia entre pacientes de diferentes razas. Tanto los pacientes negros como los pacientes blancos tienen tasas de supervivencia promedio similares, con 66 meses para pacientes negros y 71 meses para pacientes blancos. Esto sugiere que la raza en sí misma no es un factor determinante en la supervivencia de los pacientes frente al cáncer de mama en este conjunto de datos</p>"
   ]
  },
  {
   "cell_type": "markdown",
   "metadata": {},
   "source": [
    "## ¿Existe alguna relación entre el tamaño del tumor  y el estado de metástasis?"
   ]
  },
  {
   "cell_type": "code",
   "execution_count": 25,
   "metadata": {
    "scrolled": true
   },
   "outputs": [
    {
     "data": {
      "text/html": [
       "<div>\n",
       "<style scoped>\n",
       "    .dataframe tbody tr th:only-of-type {\n",
       "        vertical-align: middle;\n",
       "    }\n",
       "\n",
       "    .dataframe tbody tr th {\n",
       "        vertical-align: top;\n",
       "    }\n",
       "\n",
       "    .dataframe thead th {\n",
       "        text-align: right;\n",
       "    }\n",
       "</style>\n",
       "<table border=\"1\" class=\"dataframe\">\n",
       "  <thead>\n",
       "    <tr style=\"text-align: right;\">\n",
       "      <th>A Stage</th>\n",
       "      <th>Distant</th>\n",
       "      <th>Regional</th>\n",
       "    </tr>\n",
       "    <tr>\n",
       "      <th>T Stage</th>\n",
       "      <th></th>\n",
       "      <th></th>\n",
       "    </tr>\n",
       "  </thead>\n",
       "  <tbody>\n",
       "    <tr>\n",
       "      <th>T1</th>\n",
       "      <td>9</td>\n",
       "      <td>1594</td>\n",
       "    </tr>\n",
       "    <tr>\n",
       "      <th>T2</th>\n",
       "      <td>30</td>\n",
       "      <td>1756</td>\n",
       "    </tr>\n",
       "    <tr>\n",
       "      <th>T3</th>\n",
       "      <td>15</td>\n",
       "      <td>518</td>\n",
       "    </tr>\n",
       "    <tr>\n",
       "      <th>T4</th>\n",
       "      <td>38</td>\n",
       "      <td>64</td>\n",
       "    </tr>\n",
       "  </tbody>\n",
       "</table>\n",
       "</div>"
      ],
      "text/plain": [
       "A Stage  Distant  Regional\n",
       "T Stage                   \n",
       "T1             9      1594\n",
       "T2            30      1756\n",
       "T3            15       518\n",
       "T4            38        64"
      ]
     },
     "execution_count": 25,
     "metadata": {},
     "output_type": "execute_result"
    }
   ],
   "source": [
    "cross_tab = pd.crosstab(df['T Stage'], df['A Stage'])\n",
    "cross_tab"
   ]
  },
  {
   "cell_type": "markdown",
   "metadata": {},
   "source": [
    "### Exportacion"
   ]
  },
  {
   "cell_type": "code",
   "execution_count": 44,
   "metadata": {},
   "outputs": [],
   "source": [
    "cross_tab.to_csv('./df_resultantes/relatioship_size_metastasis.csv', index=False)"
   ]
  },
  {
   "cell_type": "code",
   "execution_count": 26,
   "metadata": {},
   "outputs": [
    {
     "data": {
      "image/png": "[encoded data removed]",
      "text/plain": [
       "<Figure size 640x480 with 1 Axes>"
      ]
     },
     "metadata": {},
     "output_type": "display_data"
    }
   ],
   "source": [
    "cross_tab.plot(kind='bar')\n",
    "plt.xlabel('Tamaño del tumor')\n",
    "plt.ylabel('Conteo de status de metastasis')\n",
    "plt.title('Tamaño del tumos Vs Estado de Metastasis')\n",
    "plt.show()"
   ]
  },
  {
   "cell_type": "code",
   "execution_count": 27,
   "metadata": {},
   "outputs": [
    {
     "data": {
      "image/png": "[encoded data removed]",
      "text/plain": [
       "<Figure size 640x480 with 2 Axes>"
      ]
     },
     "metadata": {},
     "output_type": "display_data"
    }
   ],
   "source": [
    "sns.heatmap(cross_tab, cmap='YlGnBu', annot=True, fmt='d')\n",
    "plt.xlabel('A Stage')\n",
    "plt.ylabel('T Stage')\n",
    "plt.title('Tumor Size vs Metastasis')\n",
    "plt.show()"
   ]
  },
  {
   "cell_type": "markdown",
   "metadata": {},
   "source": [
    "<p>T1,T2,T3,T4 reflejan el tamaño del tumor, estas tienen un orden logico es decir que entre mas grande el numero que acompaña la T mas grande es el tumor</p><br>\n",
    "<p>Estado de Metastasis <br> <strong>Regional</strong>: El cáncer se diseminó a los ganglios linfáticos, tejidos u órganos cercanos.<br>\n",
    "<strong>Distante</strong>: El cáncer se diseminó a otras partes distantes del cuerpo </p>"
   ]
  },
  {
   "cell_type": "markdown",
   "metadata": {},
   "source": [
    "<p><strong>Conclusion:</strong> La conclusión sobre la relación entre el tamaño del tumor y el estado de metástasis es que existe una asociación significativa entre ambas variables. A medida que el tamaño del tumor aumenta, se observa un incremento en los casos de metástasis a distancia, mientras que los tumores más pequeños tienen una mayor incidencia de metástasis regional. Estos hallazgos sugieren que el tamaño del tumor puede influir en la forma en que se propaga el cáncer, sin embargo pueden haber otros factores que tambien influyan, es decir que quizas el tamaño no es el unico factor determinante</p>"
   ]
  },
  {
   "cell_type": "markdown",
   "metadata": {},
   "source": [
    "## Cuantas personas mueren segun la edad en nuestro conjunto de datos?"
   ]
  },
  {
   "cell_type": "code",
   "execution_count": 28,
   "metadata": {},
   "outputs": [
    {
     "data": {
      "text/html": [
       "<div>\n",
       "<style scoped>\n",
       "    .dataframe tbody tr th:only-of-type {\n",
       "        vertical-align: middle;\n",
       "    }\n",
       "\n",
       "    .dataframe tbody tr th {\n",
       "        vertical-align: top;\n",
       "    }\n",
       "\n",
       "    .dataframe thead th {\n",
       "        text-align: right;\n",
       "    }\n",
       "</style>\n",
       "<table border=\"1\" class=\"dataframe\">\n",
       "  <thead>\n",
       "    <tr style=\"text-align: right;\">\n",
       "      <th></th>\n",
       "      <th>Age</th>\n",
       "      <th>Deads</th>\n",
       "    </tr>\n",
       "  </thead>\n",
       "  <tbody>\n",
       "    <tr>\n",
       "      <th>0</th>\n",
       "      <td>30</td>\n",
       "      <td>2</td>\n",
       "    </tr>\n",
       "    <tr>\n",
       "      <th>1</th>\n",
       "      <td>31</td>\n",
       "      <td>4</td>\n",
       "    </tr>\n",
       "    <tr>\n",
       "      <th>2</th>\n",
       "      <td>32</td>\n",
       "      <td>2</td>\n",
       "    </tr>\n",
       "    <tr>\n",
       "      <th>3</th>\n",
       "      <td>33</td>\n",
       "      <td>4</td>\n",
       "    </tr>\n",
       "    <tr>\n",
       "      <th>4</th>\n",
       "      <td>34</td>\n",
       "      <td>1</td>\n",
       "    </tr>\n",
       "    <tr>\n",
       "      <th>5</th>\n",
       "      <td>35</td>\n",
       "      <td>2</td>\n",
       "    </tr>\n",
       "    <tr>\n",
       "      <th>6</th>\n",
       "      <td>36</td>\n",
       "      <td>4</td>\n",
       "    </tr>\n",
       "    <tr>\n",
       "      <th>7</th>\n",
       "      <td>37</td>\n",
       "      <td>4</td>\n",
       "    </tr>\n",
       "    <tr>\n",
       "      <th>8</th>\n",
       "      <td>38</td>\n",
       "      <td>12</td>\n",
       "    </tr>\n",
       "    <tr>\n",
       "      <th>9</th>\n",
       "      <td>39</td>\n",
       "      <td>12</td>\n",
       "    </tr>\n",
       "    <tr>\n",
       "      <th>10</th>\n",
       "      <td>40</td>\n",
       "      <td>8</td>\n",
       "    </tr>\n",
       "    <tr>\n",
       "      <th>11</th>\n",
       "      <td>41</td>\n",
       "      <td>9</td>\n",
       "    </tr>\n",
       "    <tr>\n",
       "      <th>12</th>\n",
       "      <td>42</td>\n",
       "      <td>10</td>\n",
       "    </tr>\n",
       "    <tr>\n",
       "      <th>13</th>\n",
       "      <td>43</td>\n",
       "      <td>11</td>\n",
       "    </tr>\n",
       "    <tr>\n",
       "      <th>14</th>\n",
       "      <td>44</td>\n",
       "      <td>9</td>\n",
       "    </tr>\n",
       "    <tr>\n",
       "      <th>15</th>\n",
       "      <td>45</td>\n",
       "      <td>11</td>\n",
       "    </tr>\n",
       "    <tr>\n",
       "      <th>16</th>\n",
       "      <td>46</td>\n",
       "      <td>24</td>\n",
       "    </tr>\n",
       "    <tr>\n",
       "      <th>17</th>\n",
       "      <td>47</td>\n",
       "      <td>18</td>\n",
       "    </tr>\n",
       "    <tr>\n",
       "      <th>18</th>\n",
       "      <td>48</td>\n",
       "      <td>13</td>\n",
       "    </tr>\n",
       "    <tr>\n",
       "      <th>19</th>\n",
       "      <td>49</td>\n",
       "      <td>23</td>\n",
       "    </tr>\n",
       "    <tr>\n",
       "      <th>20</th>\n",
       "      <td>50</td>\n",
       "      <td>27</td>\n",
       "    </tr>\n",
       "    <tr>\n",
       "      <th>21</th>\n",
       "      <td>51</td>\n",
       "      <td>19</td>\n",
       "    </tr>\n",
       "    <tr>\n",
       "      <th>22</th>\n",
       "      <td>52</td>\n",
       "      <td>20</td>\n",
       "    </tr>\n",
       "    <tr>\n",
       "      <th>23</th>\n",
       "      <td>53</td>\n",
       "      <td>17</td>\n",
       "    </tr>\n",
       "    <tr>\n",
       "      <th>24</th>\n",
       "      <td>54</td>\n",
       "      <td>9</td>\n",
       "    </tr>\n",
       "    <tr>\n",
       "      <th>25</th>\n",
       "      <td>55</td>\n",
       "      <td>20</td>\n",
       "    </tr>\n",
       "    <tr>\n",
       "      <th>26</th>\n",
       "      <td>56</td>\n",
       "      <td>13</td>\n",
       "    </tr>\n",
       "    <tr>\n",
       "      <th>27</th>\n",
       "      <td>57</td>\n",
       "      <td>15</td>\n",
       "    </tr>\n",
       "    <tr>\n",
       "      <th>28</th>\n",
       "      <td>58</td>\n",
       "      <td>27</td>\n",
       "    </tr>\n",
       "    <tr>\n",
       "      <th>29</th>\n",
       "      <td>59</td>\n",
       "      <td>22</td>\n",
       "    </tr>\n",
       "    <tr>\n",
       "      <th>30</th>\n",
       "      <td>60</td>\n",
       "      <td>15</td>\n",
       "    </tr>\n",
       "    <tr>\n",
       "      <th>31</th>\n",
       "      <td>61</td>\n",
       "      <td>23</td>\n",
       "    </tr>\n",
       "    <tr>\n",
       "      <th>32</th>\n",
       "      <td>62</td>\n",
       "      <td>29</td>\n",
       "    </tr>\n",
       "    <tr>\n",
       "      <th>33</th>\n",
       "      <td>63</td>\n",
       "      <td>26</td>\n",
       "    </tr>\n",
       "    <tr>\n",
       "      <th>34</th>\n",
       "      <td>64</td>\n",
       "      <td>21</td>\n",
       "    </tr>\n",
       "    <tr>\n",
       "      <th>35</th>\n",
       "      <td>65</td>\n",
       "      <td>23</td>\n",
       "    </tr>\n",
       "    <tr>\n",
       "      <th>36</th>\n",
       "      <td>66</td>\n",
       "      <td>29</td>\n",
       "    </tr>\n",
       "    <tr>\n",
       "      <th>37</th>\n",
       "      <td>67</td>\n",
       "      <td>24</td>\n",
       "    </tr>\n",
       "    <tr>\n",
       "      <th>38</th>\n",
       "      <td>68</td>\n",
       "      <td>20</td>\n",
       "    </tr>\n",
       "    <tr>\n",
       "      <th>39</th>\n",
       "      <td>69</td>\n",
       "      <td>34</td>\n",
       "    </tr>\n",
       "  </tbody>\n",
       "</table>\n",
       "</div>"
      ],
      "text/plain": [
       "    Age  Deads\n",
       "0    30      2\n",
       "1    31      4\n",
       "2    32      2\n",
       "3    33      4\n",
       "4    34      1\n",
       "5    35      2\n",
       "6    36      4\n",
       "7    37      4\n",
       "8    38     12\n",
       "9    39     12\n",
       "10   40      8\n",
       "11   41      9\n",
       "12   42     10\n",
       "13   43     11\n",
       "14   44      9\n",
       "15   45     11\n",
       "16   46     24\n",
       "17   47     18\n",
       "18   48     13\n",
       "19   49     23\n",
       "20   50     27\n",
       "21   51     19\n",
       "22   52     20\n",
       "23   53     17\n",
       "24   54      9\n",
       "25   55     20\n",
       "26   56     13\n",
       "27   57     15\n",
       "28   58     27\n",
       "29   59     22\n",
       "30   60     15\n",
       "31   61     23\n",
       "32   62     29\n",
       "33   63     26\n",
       "34   64     21\n",
       "35   65     23\n",
       "36   66     29\n",
       "37   67     24\n",
       "38   68     20\n",
       "39   69     34"
      ]
     },
     "execution_count": 28,
     "metadata": {},
     "output_type": "execute_result"
    }
   ],
   "source": [
    "only_dead = df[df['Status']== 'Dead']\n",
    "count_dead_age = only_dead.groupby('Age')['Status'].size().reset_index(name='Deads')\n",
    "count_dead_age"
   ]
  },
  {
   "cell_type": "markdown",
   "metadata": {},
   "source": [
    "### Exportacion"
   ]
  },
  {
   "cell_type": "code",
   "execution_count": 45,
   "metadata": {},
   "outputs": [],
   "source": [
    "count_dead_age.to_csv('./df_resultantes/count_dead_age.csv', index=False)"
   ]
  },
  {
   "cell_type": "code",
   "execution_count": 29,
   "metadata": {},
   "outputs": [
    {
     "data": {
      "image/png": "[encoded data removed]",
      "text/plain": [
       "<Figure size 640x480 with 1 Axes>"
      ]
     },
     "metadata": {},
     "output_type": "display_data"
    }
   ],
   "source": [
    "count_dead_age.plot(kind='line')\n",
    "plt.xlabel('Fallecidos')\n",
    "plt.ylabel('Edades')\n",
    "plt.title('Cantidad de fallecidos por edad')\n",
    "plt.show()"
   ]
  },
  {
   "cell_type": "markdown",
   "metadata": {},
   "source": [
    "<p>En resumen, el análisis de las muertes en función de la edad revela una tendencia alcista en la mortalidad a medida que aumenta la edad de los pacientes, si bien existen algunos puntos que muestran una disminución en las muertes en ciertos rangos de edad, la tendencia general es ascendente. lo que indica una asociación significativa entre la edad y el riesgo de fallecimiento por cáncer de mama</p>"
   ]
  },
  {
   "cell_type": "markdown",
   "metadata": {},
   "source": [
    "## ¿Hay diferencias significativas en la proporción de supervivientes y fallecidos en diferentes grupos de edad?"
   ]
  },
  {
   "cell_type": "code",
   "execution_count": 30,
   "metadata": {},
   "outputs": [
    {
     "data": {
      "text/html": [
       "<div>\n",
       "<style scoped>\n",
       "    .dataframe tbody tr th:only-of-type {\n",
       "        vertical-align: middle;\n",
       "    }\n",
       "\n",
       "    .dataframe tbody tr th {\n",
       "        vertical-align: top;\n",
       "    }\n",
       "\n",
       "    .dataframe thead th {\n",
       "        text-align: right;\n",
       "    }\n",
       "</style>\n",
       "<table border=\"1\" class=\"dataframe\">\n",
       "  <thead>\n",
       "    <tr style=\"text-align: right;\">\n",
       "      <th>Status</th>\n",
       "      <th>Alive</th>\n",
       "      <th>Dead</th>\n",
       "    </tr>\n",
       "    <tr>\n",
       "      <th>Age</th>\n",
       "      <th></th>\n",
       "      <th></th>\n",
       "    </tr>\n",
       "  </thead>\n",
       "  <tbody>\n",
       "    <tr>\n",
       "      <th>30</th>\n",
       "      <td>3</td>\n",
       "      <td>2</td>\n",
       "    </tr>\n",
       "    <tr>\n",
       "      <th>31</th>\n",
       "      <td>10</td>\n",
       "      <td>4</td>\n",
       "    </tr>\n",
       "    <tr>\n",
       "      <th>32</th>\n",
       "      <td>11</td>\n",
       "      <td>2</td>\n",
       "    </tr>\n",
       "    <tr>\n",
       "      <th>33</th>\n",
       "      <td>11</td>\n",
       "      <td>4</td>\n",
       "    </tr>\n",
       "    <tr>\n",
       "      <th>34</th>\n",
       "      <td>13</td>\n",
       "      <td>1</td>\n",
       "    </tr>\n",
       "    <tr>\n",
       "      <th>35</th>\n",
       "      <td>18</td>\n",
       "      <td>2</td>\n",
       "    </tr>\n",
       "    <tr>\n",
       "      <th>36</th>\n",
       "      <td>20</td>\n",
       "      <td>4</td>\n",
       "    </tr>\n",
       "    <tr>\n",
       "      <th>37</th>\n",
       "      <td>24</td>\n",
       "      <td>4</td>\n",
       "    </tr>\n",
       "    <tr>\n",
       "      <th>38</th>\n",
       "      <td>33</td>\n",
       "      <td>12</td>\n",
       "    </tr>\n",
       "    <tr>\n",
       "      <th>39</th>\n",
       "      <td>40</td>\n",
       "      <td>12</td>\n",
       "    </tr>\n",
       "    <tr>\n",
       "      <th>40</th>\n",
       "      <td>64</td>\n",
       "      <td>8</td>\n",
       "    </tr>\n",
       "    <tr>\n",
       "      <th>41</th>\n",
       "      <td>62</td>\n",
       "      <td>9</td>\n",
       "    </tr>\n",
       "    <tr>\n",
       "      <th>42</th>\n",
       "      <td>72</td>\n",
       "      <td>10</td>\n",
       "    </tr>\n",
       "    <tr>\n",
       "      <th>43</th>\n",
       "      <td>81</td>\n",
       "      <td>11</td>\n",
       "    </tr>\n",
       "    <tr>\n",
       "      <th>44</th>\n",
       "      <td>70</td>\n",
       "      <td>9</td>\n",
       "    </tr>\n",
       "    <tr>\n",
       "      <th>45</th>\n",
       "      <td>91</td>\n",
       "      <td>11</td>\n",
       "    </tr>\n",
       "    <tr>\n",
       "      <th>46</th>\n",
       "      <td>139</td>\n",
       "      <td>24</td>\n",
       "    </tr>\n",
       "    <tr>\n",
       "      <th>47</th>\n",
       "      <td>143</td>\n",
       "      <td>18</td>\n",
       "    </tr>\n",
       "    <tr>\n",
       "      <th>48</th>\n",
       "      <td>127</td>\n",
       "      <td>13</td>\n",
       "    </tr>\n",
       "    <tr>\n",
       "      <th>49</th>\n",
       "      <td>139</td>\n",
       "      <td>23</td>\n",
       "    </tr>\n",
       "    <tr>\n",
       "      <th>50</th>\n",
       "      <td>117</td>\n",
       "      <td>27</td>\n",
       "    </tr>\n",
       "    <tr>\n",
       "      <th>51</th>\n",
       "      <td>129</td>\n",
       "      <td>19</td>\n",
       "    </tr>\n",
       "    <tr>\n",
       "      <th>52</th>\n",
       "      <td>98</td>\n",
       "      <td>20</td>\n",
       "    </tr>\n",
       "    <tr>\n",
       "      <th>53</th>\n",
       "      <td>138</td>\n",
       "      <td>17</td>\n",
       "    </tr>\n",
       "    <tr>\n",
       "      <th>54</th>\n",
       "      <td>119</td>\n",
       "      <td>9</td>\n",
       "    </tr>\n",
       "    <tr>\n",
       "      <th>55</th>\n",
       "      <td>134</td>\n",
       "      <td>20</td>\n",
       "    </tr>\n",
       "    <tr>\n",
       "      <th>56</th>\n",
       "      <td>119</td>\n",
       "      <td>13</td>\n",
       "    </tr>\n",
       "    <tr>\n",
       "      <th>57</th>\n",
       "      <td>129</td>\n",
       "      <td>15</td>\n",
       "    </tr>\n",
       "    <tr>\n",
       "      <th>58</th>\n",
       "      <td>93</td>\n",
       "      <td>27</td>\n",
       "    </tr>\n",
       "    <tr>\n",
       "      <th>59</th>\n",
       "      <td>125</td>\n",
       "      <td>22</td>\n",
       "    </tr>\n",
       "    <tr>\n",
       "      <th>60</th>\n",
       "      <td>125</td>\n",
       "      <td>15</td>\n",
       "    </tr>\n",
       "    <tr>\n",
       "      <th>61</th>\n",
       "      <td>120</td>\n",
       "      <td>23</td>\n",
       "    </tr>\n",
       "    <tr>\n",
       "      <th>62</th>\n",
       "      <td>120</td>\n",
       "      <td>29</td>\n",
       "    </tr>\n",
       "    <tr>\n",
       "      <th>63</th>\n",
       "      <td>127</td>\n",
       "      <td>26</td>\n",
       "    </tr>\n",
       "    <tr>\n",
       "      <th>64</th>\n",
       "      <td>95</td>\n",
       "      <td>21</td>\n",
       "    </tr>\n",
       "    <tr>\n",
       "      <th>65</th>\n",
       "      <td>99</td>\n",
       "      <td>23</td>\n",
       "    </tr>\n",
       "    <tr>\n",
       "      <th>66</th>\n",
       "      <td>90</td>\n",
       "      <td>29</td>\n",
       "    </tr>\n",
       "    <tr>\n",
       "      <th>67</th>\n",
       "      <td>95</td>\n",
       "      <td>24</td>\n",
       "    </tr>\n",
       "    <tr>\n",
       "      <th>68</th>\n",
       "      <td>91</td>\n",
       "      <td>20</td>\n",
       "    </tr>\n",
       "    <tr>\n",
       "      <th>69</th>\n",
       "      <td>74</td>\n",
       "      <td>34</td>\n",
       "    </tr>\n",
       "  </tbody>\n",
       "</table>\n",
       "</div>"
      ],
      "text/plain": [
       "Status  Alive  Dead\n",
       "Age                \n",
       "30          3     2\n",
       "31         10     4\n",
       "32         11     2\n",
       "33         11     4\n",
       "34         13     1\n",
       "35         18     2\n",
       "36         20     4\n",
       "37         24     4\n",
       "38         33    12\n",
       "39         40    12\n",
       "40         64     8\n",
       "41         62     9\n",
       "42         72    10\n",
       "43         81    11\n",
       "44         70     9\n",
       "45         91    11\n",
       "46        139    24\n",
       "47        143    18\n",
       "48        127    13\n",
       "49        139    23\n",
       "50        117    27\n",
       "51        129    19\n",
       "52         98    20\n",
       "53        138    17\n",
       "54        119     9\n",
       "55        134    20\n",
       "56        119    13\n",
       "57        129    15\n",
       "58         93    27\n",
       "59        125    22\n",
       "60        125    15\n",
       "61        120    23\n",
       "62        120    29\n",
       "63        127    26\n",
       "64         95    21\n",
       "65         99    23\n",
       "66         90    29\n",
       "67         95    24\n",
       "68         91    20\n",
       "69         74    34"
      ]
     },
     "execution_count": 30,
     "metadata": {},
     "output_type": "execute_result"
    }
   ],
   "source": [
    "relation_old_status = pd.crosstab(df['Age'], df['Status'])\n",
    "relation_old_status"
   ]
  },
  {
   "cell_type": "markdown",
   "metadata": {},
   "source": [
    "### Exportacion"
   ]
  },
  {
   "cell_type": "code",
   "execution_count": 48,
   "metadata": {},
   "outputs": [],
   "source": [
    "relation_old_status.to_csv('./df_resultantes/alive_dead_to_age.csv', index=False)"
   ]
  },
  {
   "cell_type": "markdown",
   "metadata": {},
   "source": [
    "<h3>Hallazgo Alentador</h3><br>\n",
    "<p>Al analizar los datos para responder esta pregunta, encontramos un hecho alentador: sin importar el grupo de edad al que pertenezcan los pacientes, la proporción de supervivientes es mayor que la de fallecidos. Este hallazgo es un recordatorio de que la lucha contra el cáncer es una batalla en la que se pueden obtener resultados positivos.</p>"
   ]
  },
  {
   "cell_type": "markdown",
   "metadata": {},
   "source": [
    "## Extiste una relacion o asociacion entre el rango de edad de los pacientes y el status \"sobrevivientes y fallecidos\"?"
   ]
  },
  {
   "cell_type": "markdown",
   "metadata": {},
   "source": [
    "<h4>Creacion de rango de edades para hacer una comparacion de asociacion y relacion mas legible, es decir las edades se agruparan en tres categorias, joven-adulto, adulto-mayor y tercera-edad</h4>"
   ]
  },
  {
   "cell_type": "code",
   "execution_count": 31,
   "metadata": {},
   "outputs": [
    {
     "data": {
      "text/plain": [
       "['Adulto Mayor', 'Tercera Edad', 'Joven-adulto', NaN]\n",
       "Categories (3, object): ['Joven-adulto' < 'Adulto Mayor' < 'Tercera Edad']"
      ]
     },
     "execution_count": 31,
     "metadata": {},
     "output_type": "execute_result"
    }
   ],
   "source": [
    "ranges = [30,40,50,np.inf]\n",
    "group_names = ['Joven-adulto', 'Adulto Mayor', 'Tercera Edad']\n",
    "df['Age-category'] = pd.cut(df['Age'], bins=ranges, labels=group_names)\n",
    "df['Age-category'].unique()"
   ]
  },
  {
   "cell_type": "markdown",
   "metadata": {},
   "source": [
    "<h4>Observemos la relacion y asociacion entre los rango de edades y status</h4>"
   ]
  },
  {
   "cell_type": "code",
   "execution_count": 32,
   "metadata": {},
   "outputs": [
    {
     "data": {
      "text/html": [
       "<div>\n",
       "<style scoped>\n",
       "    .dataframe tbody tr th:only-of-type {\n",
       "        vertical-align: middle;\n",
       "    }\n",
       "\n",
       "    .dataframe tbody tr th {\n",
       "        vertical-align: top;\n",
       "    }\n",
       "\n",
       "    .dataframe thead th {\n",
       "        text-align: right;\n",
       "    }\n",
       "</style>\n",
       "<table border=\"1\" class=\"dataframe\">\n",
       "  <thead>\n",
       "    <tr style=\"text-align: right;\">\n",
       "      <th>Status</th>\n",
       "      <th>Alive</th>\n",
       "      <th>Dead</th>\n",
       "    </tr>\n",
       "    <tr>\n",
       "      <th>Age-category</th>\n",
       "      <th></th>\n",
       "      <th></th>\n",
       "    </tr>\n",
       "  </thead>\n",
       "  <tbody>\n",
       "    <tr>\n",
       "      <th>Joven-adulto</th>\n",
       "      <td>244</td>\n",
       "      <td>53</td>\n",
       "    </tr>\n",
       "    <tr>\n",
       "      <th>Adulto Mayor</th>\n",
       "      <td>1041</td>\n",
       "      <td>155</td>\n",
       "    </tr>\n",
       "    <tr>\n",
       "      <th>Tercera Edad</th>\n",
       "      <td>2120</td>\n",
       "      <td>406</td>\n",
       "    </tr>\n",
       "  </tbody>\n",
       "</table>\n",
       "</div>"
      ],
      "text/plain": [
       "Status        Alive  Dead\n",
       "Age-category             \n",
       "Joven-adulto    244    53\n",
       "Adulto Mayor   1041   155\n",
       "Tercera Edad   2120   406"
      ]
     },
     "execution_count": 32,
     "metadata": {},
     "output_type": "execute_result"
    }
   ],
   "source": [
    "relation_category_age_status = pd.crosstab(df['Age-category'], df['Status'])\n",
    "relation_category_age_status"
   ]
  },
  {
   "cell_type": "markdown",
   "metadata": {},
   "source": [
    "### Exportacion"
   ]
  },
  {
   "cell_type": "code",
   "execution_count": 47,
   "metadata": {},
   "outputs": [],
   "source": [
    "relation_category_age_status.to_csv('./df_resultantes/age_category_alive_dead.csv', index=False)"
   ]
  },
  {
   "cell_type": "code",
   "execution_count": 33,
   "metadata": {},
   "outputs": [
    {
     "data": {
      "image/png": "[encoded data removed]",
      "text/plain": [
       "<Figure size 640x480 with 2 Axes>"
      ]
     },
     "metadata": {},
     "output_type": "display_data"
    }
   ],
   "source": [
    "sns.heatmap(relation_category_age_status, cmap='YlGnBu', annot=True, fmt='d')\n",
    "plt.xlabel('Age_category')\n",
    "plt.ylabel('Quantity_dead')\n",
    "plt.title('Realacion Between Age-Category and Status')\n",
    "plt.show()"
   ]
  },
  {
   "cell_type": "markdown",
   "metadata": {},
   "source": [
    "<h4>Miremos solo la relacion entre los rangos de edad y el status fallecidos para responder a la pregunta de manera mas puntual</h4>"
   ]
  },
  {
   "cell_type": "code",
   "execution_count": 34,
   "metadata": {},
   "outputs": [
    {
     "data": {
      "text/html": [
       "<div>\n",
       "<style scoped>\n",
       "    .dataframe tbody tr th:only-of-type {\n",
       "        vertical-align: middle;\n",
       "    }\n",
       "\n",
       "    .dataframe tbody tr th {\n",
       "        vertical-align: top;\n",
       "    }\n",
       "\n",
       "    .dataframe thead th {\n",
       "        text-align: right;\n",
       "    }\n",
       "</style>\n",
       "<table border=\"1\" class=\"dataframe\">\n",
       "  <thead>\n",
       "    <tr style=\"text-align: right;\">\n",
       "      <th></th>\n",
       "      <th>Age</th>\n",
       "      <th>Race</th>\n",
       "      <th>Marital Status</th>\n",
       "      <th>T Stage</th>\n",
       "      <th>N Stage</th>\n",
       "      <th>6th Stage</th>\n",
       "      <th>Grade</th>\n",
       "      <th>A Stage</th>\n",
       "      <th>Tumor Size</th>\n",
       "      <th>Estrogen Status</th>\n",
       "      <th>Progesterone Status</th>\n",
       "      <th>Regional Node Examined</th>\n",
       "      <th>Reginol Node Positive</th>\n",
       "      <th>Survival Months</th>\n",
       "      <th>Status</th>\n",
       "      <th>Age-category</th>\n",
       "    </tr>\n",
       "  </thead>\n",
       "  <tbody>\n",
       "    <tr>\n",
       "      <th>2</th>\n",
       "      <td>67</td>\n",
       "      <td>White</td>\n",
       "      <td>Married (including common law)</td>\n",
       "      <td>T2</td>\n",
       "      <td>N1</td>\n",
       "      <td>IIB</td>\n",
       "      <td>Poorly differentiated; Grade III</td>\n",
       "      <td>Regional</td>\n",
       "      <td>25</td>\n",
       "      <td>Positive</td>\n",
       "      <td>Positive</td>\n",
       "      <td>4</td>\n",
       "      <td>1</td>\n",
       "      <td>2</td>\n",
       "      <td>Dead</td>\n",
       "      <td>Tercera Edad</td>\n",
       "    </tr>\n",
       "  </tbody>\n",
       "</table>\n",
       "</div>"
      ],
      "text/plain": [
       "   Age   Race                  Marital Status T Stage N Stage 6th Stage  \\\n",
       "2   67  White  Married (including common law)      T2      N1       IIB   \n",
       "\n",
       "                              Grade   A Stage  Tumor Size Estrogen Status  \\\n",
       "2  Poorly differentiated; Grade III  Regional          25        Positive   \n",
       "\n",
       "  Progesterone Status  Regional Node Examined  Reginol Node Positive  \\\n",
       "2            Positive                       4                      1   \n",
       "\n",
       "   Survival Months Status  Age-category  \n",
       "2                2   Dead  Tercera Edad  "
      ]
     },
     "execution_count": 34,
     "metadata": {},
     "output_type": "execute_result"
    }
   ],
   "source": [
    "df_status_dead = df[df['Status'] == 'Dead']\n",
    "df_status_dead.head(1)"
   ]
  },
  {
   "cell_type": "code",
   "execution_count": 35,
   "metadata": {},
   "outputs": [
    {
     "data": {
      "text/html": [
       "<div>\n",
       "<style scoped>\n",
       "    .dataframe tbody tr th:only-of-type {\n",
       "        vertical-align: middle;\n",
       "    }\n",
       "\n",
       "    .dataframe tbody tr th {\n",
       "        vertical-align: top;\n",
       "    }\n",
       "\n",
       "    .dataframe thead th {\n",
       "        text-align: right;\n",
       "    }\n",
       "</style>\n",
       "<table border=\"1\" class=\"dataframe\">\n",
       "  <thead>\n",
       "    <tr style=\"text-align: right;\">\n",
       "      <th>Status</th>\n",
       "      <th>Dead</th>\n",
       "    </tr>\n",
       "    <tr>\n",
       "      <th>Age-category</th>\n",
       "      <th></th>\n",
       "    </tr>\n",
       "  </thead>\n",
       "  <tbody>\n",
       "    <tr>\n",
       "      <th>Joven-adulto</th>\n",
       "      <td>53</td>\n",
       "    </tr>\n",
       "    <tr>\n",
       "      <th>Adulto Mayor</th>\n",
       "      <td>155</td>\n",
       "    </tr>\n",
       "    <tr>\n",
       "      <th>Tercera Edad</th>\n",
       "      <td>406</td>\n",
       "    </tr>\n",
       "  </tbody>\n",
       "</table>\n",
       "</div>"
      ],
      "text/plain": [
       "Status        Dead\n",
       "Age-category      \n",
       "Joven-adulto    53\n",
       "Adulto Mayor   155\n",
       "Tercera Edad   406"
      ]
     },
     "execution_count": 35,
     "metadata": {},
     "output_type": "execute_result"
    }
   ],
   "source": [
    "relation_age_category_dead = pd.crosstab(df_status_dead['Age-category'], df_status_dead['Status'])\n",
    "relation_age_category_dead"
   ]
  },
  {
   "cell_type": "markdown",
   "metadata": {},
   "source": [
    "### Exportacion"
   ]
  },
  {
   "cell_type": "code",
   "execution_count": 49,
   "metadata": {},
   "outputs": [],
   "source": [
    "relation_age_category_dead.to_csv('./df_resultantes/age_category_relatioship_dead.csv')"
   ]
  },
  {
   "cell_type": "code",
   "execution_count": 36,
   "metadata": {},
   "outputs": [
    {
     "data": {
      "image/png": "[encoded data removed]",
      "text/plain": [
       "<Figure size 640x480 with 2 Axes>"
      ]
     },
     "metadata": {},
     "output_type": "display_data"
    }
   ],
   "source": [
    "sns.heatmap(relation_age_category_dead, cmap='YlGnBu', annot=True, fmt='d')\n",
    "plt.xlabel('Age-category')\n",
    "plt.ylabel('Quantity_dead')\n",
    "plt.title('Relation or asociation beetween range age and dead')\n",
    "plt.show()"
   ]
  },
  {
   "cell_type": "markdown",
   "metadata": {},
   "source": [
    "<p>Al analizar la relación entre las categorías de edad y el estatus (vivos o muertos) de los pacientes, se observa una tendencia significativa. A medida que aumenta el rango de edad, se registra un incremento en el número de muertes, lo cual sugiere una mayor vulnerabilidad en la población de mayor edad. Sin embargo, también se observa un aumento en el registro de pacientes vivos en los rangos de edad más altos. Esto indica que la mayoría de los pacientes pertenecen a grupos de mayor edad, lo que puede influir en la distribución de los resultados. Es importante considerar estos factores al analizar la relación entre edad y estatus, y tomar en cuenta que la muestra está sesgada hacia una población mayor.</p>"
   ]
  },
  {
   "cell_type": "markdown",
   "metadata": {},
   "source": [
    "## Conclusion\n",
    "En resumen, se han respondido satisfactoriamente las preguntas y objetivos planteados en el análisis de datos de pacientes con cáncer de mama. Este proceso ha permitido utilizar conocimientos técnicos para abordar un tema relevante en el ámbito de la salud. Es importante destacar que estos resultados son específicos para el conjunto de datos analizado y no representan cifras absolutas a nivel mundial.\n",
    "\n",
    "Se ha demostrado la existencia de relaciones significativas entre variables como la edad, el tamaño del tumor, el estado de metástasis y el estado vital de los pacientes. Sin embargo, es importante tener en cuenta que existen múltiples variables y preguntas adicionales que podrían abordarse con estos datos, lo que abre la puerta a futuras investigaciones.\n",
    "\n",
    "En definitiva, este análisis proporciona un punto de referencia valioso para comprender y explorar aspectos relevantes del cáncer de mama. Debe ser considerado como una contribución inicial en un campo amplio y en constante evolución, lo que resalta la importancia de continuar investigando y ampliando nuestro conocimiento en este ámbito de vital importancia para la salud pública."
   ]
  },
  {
   "cell_type": "code",
   "execution_count": null,
   "metadata": {},
   "outputs": [],
   "source": []
  }
 ],
 "metadata": {
  "colab": {
   "provenance": []
  },
  "kernelspec": {
   "display_name": "Python 3 (ipykernel)",
   "language": "python",
   "name": "python3"
  },
  "language_info": {
   "codemirror_mode": {
    "name": "ipython",
    "version": 3
   },
   "file_extension": ".py",
   "mimetype": "text/x-python",
   "name": "python",
   "nbconvert_exporter": "python",
   "pygments_lexer": "ipython3",
   "version": "3.10.9"
  }
 },
 "nbformat": 4,
 "nbformat_minor": 1
}
